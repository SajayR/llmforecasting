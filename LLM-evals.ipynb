{
 "cells": [
  {
   "cell_type": "code",
   "execution_count": 11,
   "metadata": {},
   "outputs": [],
   "source": [
    "import ollama"
   ]
  },
  {
   "cell_type": "code",
   "execution_count": 12,
   "metadata": {},
   "outputs": [],
   "source": [
    "def generatellama(lol, hours):\n",
    "  output=\"\"\n",
    "  ollama_response = ollama.chat(\n",
    "    model='falcon:7b-text',\n",
    "    stream=True,\n",
    "    messages=[\n",
    "      {\n",
    "        'role': 'user',\n",
    "        'content': lol,\n",
    "      },\n",
    "    ],\n",
    "    options={\n",
    "      'temperature': 0.4\n",
    "    }\n",
    "  )\n",
    "  for chunk in ollama_response:\n",
    "    if chunk['message']['content']==\"\\n\":\n",
    "      \n",
    "      if hours==1:\n",
    "        break\n",
    "      hours-=1\n",
    "    output+=chunk['message']['content']\n",
    "  return output if output[0]!=\"\\n\" else output[1:]\n",
    "\n"
   ]
  },
  {
   "cell_type": "code",
   "execution_count": 13,
   "metadata": {},
   "outputs": [],
   "source": [
    "import pandas as pd\n",
    "from sklearn.preprocessing import MinMaxScaler\n",
    "from sklearn.model_selection import train_test_split\n",
    "import numpy as np\n",
    "import torch\n",
    "from torch import nn\n",
    "from torch.utils.data import DataLoader, TensorDataset\n",
    "import matplotlib.pyplot as plt\n",
    "\n",
    "df = pd.read_csv('combined_IGI_airport.csv', parse_dates=['Timestamp'])\n",
    "df.interpolate(method='linear', inplace=True)\n",
    "\n"
   ]
  },
  {
   "cell_type": "code",
   "execution_count": 14,
   "metadata": {},
   "outputs": [],
   "source": [
    "import pandas as pd\n",
    "\n",
    "df = pd.read_csv('combined_IGI_airport.csv', parse_dates=['Timestamp'])\n",
    "df.interpolate(method='linear', inplace=True)\n"
   ]
  },
  {
   "cell_type": "code",
   "execution_count": 18,
   "metadata": {},
   "outputs": [
    {
     "name": "stderr",
     "output_type": "stream",
     "text": [
      "  0%|          | 0/18 [00:00<?, ?it/s]"
     ]
    }
   ],
   "source": [
    "from io import StringIO\n",
    "import tqdm\n",
    "\n",
    "# Initialize lists to store metrics\n",
    "actual_values_list = []\n",
    "predicted_values_list = []\n",
    "\n",
    "# Assuming df is your full dataframe, already preprocessed\n",
    "for start_idx in tqdm.tqdm(range(0, len(df) - (168 + 24) + 1, 1000)):\n",
    "    # Select chunks of data\n",
    "    current_chunk = df.iloc[start_idx:start_idx + 168 + 24]\n",
    "    input_df = current_chunk.head(168)\n",
    "    actual_df = current_chunk.tail(24)\n",
    "    \n",
    "    # Prepare input and get predictions\n",
    "    input_string = input_df.to_csv(index=False, header=False)\n",
    "    predicted_values_string = generatellama(input_string, 24)  # Replace with actual call\n",
    "    predicted_df = pd.read_csv(StringIO(predicted_values_string), header=None)\n",
    "    predicted_df.columns = df.columns\n",
    "    \n",
    "    # Store actual and predicted values for metrics calculation\n",
    "    actual_values_list.append(actual_df)\n",
    "    predicted_values_list.append(predicted_df)\n",
    "\n",
    "# Concatenate all actual and predicted values for metric calculations\n",
    "all_actual_df = pd.concat(actual_values_list)\n",
    "all_predicted_df = pd.concat(predicted_values_list)\n"
   ]
  },
  {
   "cell_type": "code",
   "execution_count": null,
   "metadata": {},
   "outputs": [],
   "source": [
    "from sklearn.metrics import mean_absolute_error, mean_squared_error\n",
    "\n",
    "def calculate_metrics(actual, predicted):\n",
    "    mae = mean_absolute_error(actual, predicted)\n",
    "    mse = mean_squared_error(actual, predicted)\n",
    "    rmse = np.sqrt(mse)\n",
    "    mape = np.mean(np.abs((actual - predicted) / actual)) * 100\n",
    "    \n",
    "    return mae, mse, rmse, mape\n",
    "\n",
    "# Example calculation for one parameter - repeat for each and combine if needed\n",
    "mae, mse, rmse, mape = calculate_metrics(all_actual_df['PM2.5 (µg/m³)'], all_predicted_df['PM2.5 (µg/m³)'])\n",
    "\n",
    "print(f\"Mean Absolute Error: {mae}\\n Mean Squared Errpr: {mse}\\n Root Mean Squared Error: {rmse}\\n Mean Absolute Percentage Error: {mape}\")\n"
   ]
  },
  {
   "cell_type": "code",
   "execution_count": null,
   "metadata": {},
   "outputs": [],
   "source": []
  },
  {
   "cell_type": "code",
   "execution_count": null,
   "metadata": {},
   "outputs": [],
   "source": []
  },
  {
   "cell_type": "code",
   "execution_count": null,
   "metadata": {},
   "outputs": [],
   "source": []
  },
  {
   "cell_type": "code",
   "execution_count": null,
   "metadata": {},
   "outputs": [],
   "source": []
  },
  {
   "cell_type": "code",
   "execution_count": null,
   "metadata": {},
   "outputs": [],
   "source": []
  },
  {
   "cell_type": "code",
   "execution_count": null,
   "metadata": {},
   "outputs": [],
   "source": []
  },
  {
   "cell_type": "code",
   "execution_count": null,
   "metadata": {},
   "outputs": [],
   "source": []
  },
  {
   "cell_type": "code",
   "execution_count": null,
   "metadata": {},
   "outputs": [],
   "source": []
  },
  {
   "cell_type": "code",
   "execution_count": null,
   "metadata": {},
   "outputs": [],
   "source": []
  },
  {
   "cell_type": "code",
   "execution_count": null,
   "metadata": {},
   "outputs": [],
   "source": []
  },
  {
   "cell_type": "code",
   "execution_count": null,
   "metadata": {},
   "outputs": [],
   "source": []
  }
 ],
 "metadata": {
  "kernelspec": {
   "display_name": "Python 3",
   "language": "python",
   "name": "python3"
  },
  "language_info": {
   "codemirror_mode": {
    "name": "ipython",
    "version": 3
   },
   "file_extension": ".py",
   "mimetype": "text/x-python",
   "name": "python",
   "nbconvert_exporter": "python",
   "pygments_lexer": "ipython3",
   "version": "3.12.1"
  }
 },
 "nbformat": 4,
 "nbformat_minor": 2
}
